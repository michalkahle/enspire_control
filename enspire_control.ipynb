{
 "cells": [
  {
   "cell_type": "code",
   "execution_count": 1,
   "metadata": {},
   "outputs": [],
   "source": [
    "import enspire_control as ec\n",
    "import pandas as pd\n",
    "from plotnine import *"
   ]
  },
  {
   "cell_type": "code",
   "execution_count": 23,
   "metadata": {
    "scrolled": true
   },
   "outputs": [
    {
     "name": "stdout",
     "output_type": "stream",
     "text": [
      "Wall time: 23min 2s\n"
     ]
    }
   ],
   "source": [
    "%%time\n",
    "df = ec.measure('A1-P6, A7-D9', ex=240, em=(260, 800), step=10)\n",
    "df.head()"
   ]
  },
  {
   "cell_type": "code",
   "execution_count": null,
   "metadata": {},
   "outputs": [],
   "source": [
    "%%time\n",
    "for ex in range(700, 270, -20):\n",
    "    print(ex)\n",
    "    df = ec.measure('E7-P9, A10-P24', ex=ex, em=(ex+20, 800), step=10)\n",
    "    (ggplot(df) +\n",
    "     aes('em', 'fi', color='well', group='well') +\n",
    "     geom_line()\n",
    "    ).draw()"
   ]
  },
  {
   "cell_type": "raw",
   "metadata": {
    "scrolled": true
   },
   "source": [
    "ec.get_protocol()\n",
    "\n",
    "ec.update_protocol('A1', ex=440, em=(460, 465), step=5)\n",
    "\n",
    "ec.update_protocol('a1-a4, P24, a9-p10, a12-p13, p1', ex=(400, 500), em=520, step=5)\n",
    "\n",
    "ec.load_enspire('T://EnSpire//20181120/enspire_control_426.csv')"
   ]
  }
 ],
 "metadata": {
  "kernelspec": {
   "display_name": "enspire",
   "language": "python",
   "name": "enspire"
  },
  "language_info": {
   "codemirror_mode": {
    "name": "ipython",
    "version": 3
   },
   "file_extension": ".py",
   "mimetype": "text/x-python",
   "name": "python",
   "nbconvert_exporter": "python",
   "pygments_lexer": "ipython3",
   "version": "3.6.5"
  }
 },
 "nbformat": 4,
 "nbformat_minor": 2
}
