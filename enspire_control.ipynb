{
 "cells": [
  {
   "cell_type": "code",
   "execution_count": 88,
   "metadata": {},
   "outputs": [],
   "source": [
    "import pyodbc\n",
    "\n",
    "class open_db_connection:\n",
    "    def __enter__(self):\n",
    "        cs = 'DRIVER={SQL Server};SERVER=ENSPIRE-PC;DATABASE=EnVisionLite'\n",
    "        self.connection = pyodbc.connect(cs)\n",
    "        cursor = self.connection.cursor()\n",
    "        return cursor\n",
    "    def __exit__(self, exc_type, exc_value, traceback):\n",
    "        self.connection.commit()\n",
    "        self.connection.close()\n",
    "\n",
    "def execute(sql, *args):        \n",
    "    with db_cursor() as cursor:\n",
    "        cursor.execute(sql, *args)\n",
    "        rows = cursor.fetchall()\n",
    "    return rows, cursor.description\n",
    "\n",
    "def get_protocol(protname):        \n",
    "    with open_db_connection() as cursor:\n",
    "        cursor.execute('SELECT PlateMap FROM assayProtocol WHERE protName = ?', protname)\n",
    "        platemap = cursor.fetchone()[0]\n",
    "    return platemap\n",
    "\n",
    "def get_map(protname):\n",
    "    with open_db_connection() as cursor:\n",
    "        cursor.execute(\"SELECT CHARINDEX('GROUP Wells=', PlateMap) FROM AssayProtocol WHERE ProtName = ?\", protname)\n",
    "        start = cursor.fetchone()[0] + 12\n",
    "        cursor.execute(\"SELECT CHARINDEX('\\\"', PlateMap, ?) FROM AssayProtocol WHERE ProtName = ?\", start+1, protname)\n",
    "        end = cursor.fetchone()[0]\n",
    "        sql = 'SELECT SUBSTRING(PlateMap, ?, ?) FROM AssayProtocol WHERE ProtName = ?'\n",
    "        cursor.execute(sql, start, end-start+1, protname)\n",
    "        res = cursor.fetchone()[0]\n",
    "    return res\n",
    "\n",
    "def set_well(protname, well):\n",
    "    with open_db_connection() as cursor:\n",
    "        replaced = '%i-%i [6]' % (well, well)\n",
    "        cursor.execute(\"SELECT CHARINDEX('GROUP Wells=', PlateMap) FROM AssayProtocol WHERE ProtName = ?\", protname)\n",
    "        start = cursor.fetchone()[0] + 12\n",
    "        cursor.execute(\"SELECT CHARINDEX('\\\"', PlateMap, ?) FROM AssayProtocol WHERE ProtName = ?\", start+1, protname)\n",
    "        end = cursor.fetchone()[0]\n",
    "\n",
    "        sql = '''DECLARE @ptrval binary(16)\n",
    "        SELECT @ptrval = TEXTPTR(PlateMap) FROM AssayProtocol WHERE ProtName = ?\n",
    "        UPDATETEXT AssayProtocol.PlateMap @ptrval ? ? ?;'''\n",
    "        cursor.execute(sql, protname, start, end-start-1, replaced)\n",
    "\n",
    "        sql = 'SELECT SUBSTRING(PlateMap, ?, ?) FROM AssayProtocol WHERE ProtName = ?'\n",
    "        cursor.execute(sql, start, len(replaced)+2, protname)\n",
    "\n",
    "        res = cursor.fetchone()[0]\n",
    "    return res\n",
    "\n",
    "def well_map(q):\n",
    "    def char_range(c1, c2):\n",
    "        for c in range(ord(c1), ord(c2)+1):\n",
    "            yield chr(c)\n",
    "    plate = {}\n",
    "    for n in list('abcdefghijklmnop'):\n",
    "        plate[n] = [0 for g in range(24)]\n",
    "    for j in q.replace(' ', '').lower().split(','):\n",
    "        (b, e) = j.split('-') if ('-' in j) else (j, j)\n",
    "        for nn in char_range(b[:1], e[:1]):\n",
    "            for ii in range(int(b[1:]) - 1, int(e[1:])):\n",
    "                plate[nn][ii] = 1\n",
    "    out = []\n",
    "    def add_range(row, start, end):\n",
    "        rn = (ord(row) - 97) * 24\n",
    "        out.append('%i-%i [6]' % (rn + start, rn + end))\n",
    "    for row in list('abcdefghijklmnop'):\n",
    "        start = None\n",
    "        for ii, val in enumerate(plate[row]):\n",
    "#             print(ii, val, start)\n",
    "            if val and not start:\n",
    "                start = ii + 1\n",
    "#                 print('set: ', ii)\n",
    "            elif not val and start:\n",
    "                add_range(row, start, ii)\n",
    "                start = None\n",
    "        if start:\n",
    "            add_range(row, start, ii+1)\n",
    "    return ','.join(out)\n",
    "\n",
    "def update_protocol(protname, wells, ex, em, step):\n",
    "    def check(p):\n",
    "        if type(p) != int:\n",
    "            raise ValueError('Please use integers.')\n",
    "        if p < 230 or p > 1000:\n",
    "            raise ValueError('Monochromator range is between 230nm and 1000nm.')\n",
    "        else:\n",
    "            return p\n",
    "    if ex is None or em is None or step is None:\n",
    "        raise ValueError('All parameters must be specified.')\n",
    "    if type(step) != int or step < 1 or step > 750:\n",
    "        raise ValueError('step must be an integer between 1 and 750')\n",
    "    \n",
    "    pp = [None for x in range(8)]\n",
    "    if type(ex)==int and type(em)==tuple:\n",
    "        if check(em[0]) - check(ex) < 20:\n",
    "            raise ValueError('Gap between excitation and emission must be 20nm or more.')\n",
    "        if check(em[1]) - check(em[0]) < step:\n",
    "            raise ValueError('Range must not be smaller than step.')\n",
    "        pp[3] = ex\n",
    "        pp[4] = em[0]\n",
    "        pp[5] = em[1]\n",
    "        pp[6] = step\n",
    "    elif type(ex)==tuple and type(em)==int:\n",
    "        if check(em) - check(ex[1]) < 20:\n",
    "            raise ValueError('Gap between excitation and emission must be 20nm or more.')\n",
    "        if check(ex[1]) - check(ex[0]) < step:\n",
    "            raise ValueError('Range must not be smaller than step.')\n",
    "        pp[7] = em\n",
    "        pp[0] = ex[0]\n",
    "        pp[1] = ex[1]\n",
    "        pp[2] = step\n",
    "    else:\n",
    "        raise ValueError('One of ex and em should be set to a range (tuple).')\n",
    "    \n",
    "    \n",
    "    with open_db_connection() as cursor:\n",
    "        cursor.execute('SELECT PlateMap FROM assayProtocol WHERE protName = ?', protname)\n",
    "        res = cursor.fetchone()[0]\n",
    "        if wells is not None:\n",
    "            new_map = well_map(wells)\n",
    "            start = res.find('GROUP Wells=\"') + 13\n",
    "            end = res.find('\"', start)\n",
    "            res = res[:start] + new_map + res[end:]\n",
    "        script = res.find('Name=\"SCANMEAS_MC\"')\n",
    "        start = res.find('Params=\"', script) + 8\n",
    "        end = res.find('\"', start)\n",
    "        params = res[start:end].split(',')\n",
    "        pp_orig = [int(x)//1000 for x in params[1:9]]\n",
    "        for ii, p in enumerate(pp):\n",
    "            if p is not None:\n",
    "                params[ii+1] = str(p * 1000)\n",
    "            else:\n",
    "                params[ii+1] = str(- abs(pp_orig[ii] * 1000) )\n",
    "        res2 = res[:start] + ','.join(params) + res[end:]\n",
    "        sql = '''DECLARE @ptrval binary(16)\n",
    "        SELECT @ptrval = TEXTPTR(PlateMap) FROM AssayProtocol WHERE ProtName = ?\n",
    "        WRITETEXT AssayProtocol.PlateMap @ptrval ?;'''\n",
    "        cursor.execute(sql, protname, res2)\n",
    "    "
   ]
  },
  {
   "cell_type": "code",
   "execution_count": 90,
   "metadata": {},
   "outputs": [],
   "source": [
    "update_protocol('Test', 'A1', ex=440, em=(460, 465), step=5)"
   ]
  },
  {
   "cell_type": "code",
   "execution_count": 91,
   "metadata": {},
   "outputs": [],
   "source": [
    "update_protocol('Test', 'a1-a4, P24, a9-p10, a12-p13, p1', ex=(400, 500), em=520, step=5)"
   ]
  },
  {
   "cell_type": "raw",
   "metadata": {
    "scrolled": true
   },
   "source": [
    "set_well('Test', 4)"
   ]
  },
  {
   "cell_type": "code",
   "execution_count": 7,
   "metadata": {},
   "outputs": [
    {
     "data": {
      "text/plain": [
       "'\"1-4 [6],9-10 [6],12-13 [6],25-25 [6],33-34 [6],36-37 [6],57-58 [6],60-61 [6],81-82 [6],84-85 [6],105-106 [6],108-109 [6],129-130 [6],132-133 [6],153-154 [6],156-157 [6],177-178 [6],180-181 [6],201-202 [6],204-205 [6],225-226 [6],228-229 [6],249-250 [6],252-253 [6],273-274 [6],276-277 [6],297-298 [6],300-301 [6],321-322 [6],324-325 [6],345-346 [6],348-349 [6],369-370 [6],372-373 [6],384-384 [6]\"'"
      ]
     },
     "execution_count": 7,
     "metadata": {},
     "output_type": "execute_result"
    }
   ],
   "source": [
    "get_map('Test')"
   ]
  },
  {
   "cell_type": "code",
   "execution_count": 78,
   "metadata": {},
   "outputs": [
    {
     "data": {
      "text/plain": [
       "'1-4 [6],9-10 [6],12-13 [6],33-34 [6],36-37 [6],57-58 [6],60-61 [6],81-82 [6],84-85 [6],105-106 [6],108-109 [6],129-130 [6],132-133 [6],153-154 [6],156-157 [6],177-178 [6],180-181 [6],201-202 [6],204-205 [6],225-226 [6],228-229 [6],249-250 [6],252-253 [6],273-274 [6],276-277 [6],297-298 [6],300-301 [6],321-322 [6],324-325 [6],345-346 [6],348-349 [6],361-361 [6],369-370 [6],372-373 [6],384-384 [6]'"
      ]
     },
     "execution_count": 78,
     "metadata": {},
     "output_type": "execute_result"
    }
   ],
   "source": [
    "r2 =well_map('a1-a4, P24, a9-p10, a12-p13, p1')\n",
    "r2\n",
    "# well_map('a1-a4, p24')"
   ]
  },
  {
   "cell_type": "code",
   "execution_count": 73,
   "metadata": {},
   "outputs": [
    {
     "data": {
      "text/plain": [
       "'<PLATES Repeat=\"1\" Delay=\"0\" Rows=\"16\" Columns=\"24\"><PLATE Repeat=\"1\" Delay=\"0\" Rows=\"16\" Columns=\"24\" PlateID=\"10008\" Meas_height=\"-1\" Meas_mode=\"6\" Soft_move=\"0\" Rotate=\"0\" Wells=\"1-384 [6]\"><GROUP Wells=\"1-4 [6],9-10 [6],12-13 [6],25-25 [6],33-34 [6],36-37 [6],57-58 [6],60-61 [6],81-82 [6],84-85 [6],105-106 [6],108-109 [6],129-130 [6],132-133 [6],153-154 [6],156-157 [6],177-178 [6],180-181 [6],201-202 [6],204-205 [6],225-226 [6],228-229 [6],249-250 [6],252-253 [6],273-274 [6],276-277 [6],297-298 [6],300-301 [6],321-322 [6],324-325 [6],345-346 [6],348-349 [6],369-370 [6],372-373 [6],384-384 [6]\" Meas_mode=\"6\" WellOrder=\"1\" BLOCK=\"0\" Size=\"0\" UseTime=\"0\" Repeat=\"1\" Delay=\"0\" TotalTime=\"600\"><SCRIPT Name=\"SCANMEAS_MC\" Alias=\"A\" Inc=\"1\" RepeatRange=\"1 1 1\" TimeRange=\"0 0 1\" UseHours=\"0\" Params=\"4050010,-400000,-500000,-5000,440000,460000,465000,5000,-520000,1,1\"/></GROUP></PLATE></PLATES>\\r\\n'"
      ]
     },
     "execution_count": 73,
     "metadata": {},
     "output_type": "execute_result"
    }
   ],
   "source": [
    "res= get_protocol('Test')\n",
    "res"
   ]
  },
  {
   "cell_type": "code",
   "execution_count": 76,
   "metadata": {},
   "outputs": [
    {
     "data": {
      "text/plain": [
       "'1-4 [6],9-10 [6],12-13 [6],25-25 [6],33-34 [6],36-37 [6],57-58 [6],60-61 [6],81-82 [6],84-85 [6],105-106 [6],108-109 [6],129-130 [6],132-133 [6],153-154 [6],156-157 [6],177-178 [6],180-181 [6],201-202 [6],204-205 [6],225-226 [6],228-229 [6],249-250 [6],252-253 [6],273-274 [6],276-277 [6],297-298 [6],300-301 [6],321-322 [6],324-325 [6],345-346 [6],348-349 [6],369-370 [6],372-373 [6],384-384 [6]'"
      ]
     },
     "execution_count": 76,
     "metadata": {},
     "output_type": "execute_result"
    }
   ],
   "source": [
    "start = res.find('GROUP Wells=\"') + 13\n",
    "end = res.find('\"', start)\n",
    "params_orig = res[start:end]\n",
    "params_orig"
   ]
  },
  {
   "cell_type": "code",
   "execution_count": 84,
   "metadata": {},
   "outputs": [
    {
     "data": {
      "text/plain": [
       "True"
      ]
     },
     "execution_count": 84,
     "metadata": {},
     "output_type": "execute_result"
    }
   ],
   "source": [
    "params = params_orig.split(',')\n",
    "params[4] = str(440 * 1000)\n",
    "','.join(params) == params_orig"
   ]
  },
  {
   "cell_type": "code",
   "execution_count": 65,
   "metadata": {},
   "outputs": [
    {
     "data": {
      "text/plain": [
       "'1-4 [6],9-10 [6],12-13 [6],25-25 [6],33-34 [6],36-37 [6],57-58 [6],60-61 [6],81-82 [6],84-85 [6],105-106 [6],108-109 [6],129-130 [6],132-133 [6],153-154 [6],156-157 [6],177-178 [6],180-181 [6],201-202 [6],204-205 [6],225-226 [6],228-229 [6],249-250 [6],252-253 [6],273-274 [6],276-277 [6],297-298 [6],300-301 [6],321-322 [6],324-325 [6],345-346 [6],348-349 [6],369-370 [6],372-373 [6],384-384 [6]'"
      ]
     },
     "execution_count": 65,
     "metadata": {},
     "output_type": "execute_result"
    }
   ],
   "source": [
    "r1 = get_map('Test')[1:-1]\n",
    "r1"
   ]
  },
  {
   "cell_type": "code",
   "execution_count": 66,
   "metadata": {},
   "outputs": [
    {
     "data": {
      "text/plain": [
       "True"
      ]
     },
     "execution_count": 66,
     "metadata": {},
     "output_type": "execute_result"
    }
   ],
   "source": [
    "r1 == r2\n"
   ]
  },
  {
   "cell_type": "code",
   "execution_count": null,
   "metadata": {},
   "outputs": [],
   "source": []
  },
  {
   "cell_type": "code",
   "execution_count": null,
   "metadata": {},
   "outputs": [],
   "source": []
  },
  {
   "cell_type": "code",
   "execution_count": null,
   "metadata": {},
   "outputs": [],
   "source": []
  }
 ],
 "metadata": {
  "kernelspec": {
   "display_name": "Python 3",
   "language": "python",
   "name": "python3"
  },
  "language_info": {
   "codemirror_mode": {
    "name": "ipython",
    "version": 3
   },
   "file_extension": ".py",
   "mimetype": "text/x-python",
   "name": "python",
   "nbconvert_exporter": "python",
   "pygments_lexer": "ipython3",
   "version": "3.6.5"
  }
 },
 "nbformat": 4,
 "nbformat_minor": 2
}
